{
 "cells": [
  {
   "cell_type": "code",
   "execution_count": 1,
   "metadata": {
    "collapsed": true
   },
   "outputs": [],
   "source": [
    "%load_ext autoreload\n",
    "%autoreload 2"
   ]
  },
  {
   "cell_type": "code",
   "execution_count": 2,
   "metadata": {},
   "outputs": [
    {
     "name": "stdout",
     "output_type": "stream",
     "text": [
      "hdf5 is not supported on this machine (please install/reinstall h5py for optimal experience)\n"
     ]
    }
   ],
   "source": [
    "import os\n",
    "os.environ['CUDA_VISIBLE_DEVICES']=\"1\"\n",
    "import pandas as pd\n",
    "import numpy as np\n",
    "from collections import defaultdict\n",
    "from itertools import combinations\n",
    "from itertools import chain\n",
    "from collections import namedtuple\n",
    "import pickle\n",
    "import tensorflow as tf\n",
    "import tflearn\n",
    "import matplotlib.pyplot as plt\n",
    "import os.path\n",
    "import shutil\n",
    "import inspect\n",
    "import matplotlib.pyplot as plt\n",
    "import json\n",
    "from pprint import pprint\n",
    "from copy import copy\n",
    "from nn_lib import *\n",
    "from train_utils import *\n",
    "from cifar100_utils import *\n",
    "from train_procedures import *\n",
    "np.random.seed(1997)\n",
    "ALGORITHM=sys.argv[1]\n",
    "BASE_DIR=sys.argv[2]\n",
    "if ALGORITHM=='full_data':\n",
    "    CLASS_BATCH_SIZE=int(sys.argv[3])"
   ]
  },
  {
   "cell_type": "code",
   "execution_count": 3,
   "metadata": {
    "collapsed": true
   },
   "outputs": [],
   "source": [
    "data_dict=load_cifar100_data()"
   ]
  },
  {
   "cell_type": "code",
   "execution_count": 4,
   "metadata": {
    "collapsed": true
   },
   "outputs": [],
   "source": [
    "# for testing\n",
    "ALGORITHM=\"SupportNet\""
   ]
  },
  {
   "cell_type": "code",
   "execution_count": 5,
   "metadata": {},
   "outputs": [],
   "source": [
    "#non-incremental settings\n",
    "if ALGORITHM == 'ft':\n",
    "    hyper_params={'beta':1e-5,\n",
    "                  'initial_lr':0.1,\n",
    "                  'train_batch_size':64,\n",
    "                  'test_batch_size':64,\n",
    "                  'lr_reduction_rate':10,\n",
    "                  'lr_reduction_epoch':[49,63],\n",
    "                  'use_fixedsize_exemplars':True,\n",
    "                  'exemplars_set_size':2000,\n",
    "                  'final_train_epochs':0,\n",
    "                  'se':True,\n",
    "                  'primary_exemplars':None,\n",
    "                  'train_method':'train_plain',\n",
    "                  'sample_weight':0,\n",
    "                  'shuffle_class_ord':False,\n",
    "                  'optimizer':'momentum',\n",
    "                  'ewc_lambda':0,\n",
    "                  'loss_function':'sigmoid_cross_entropy_with_logits'}\n",
    "    fixed_params={'dataset':'cifar100',\n",
    "                  'net_type':'ResNet32',\n",
    "                  'random_seed':1997,\n",
    "                  'total_num_classes':100,\n",
    "                  'base_dir':BASE_DIR,\n",
    "                  'class_batch_size':2,\n",
    "                  'use_theoretical_mean':True}\n",
    "#icarl settings\n",
    "elif ALGORITHM == 'icarl':\n",
    "    hyper_params={'beta':2e-5,\n",
    "                  'initial_lr':0.1,\n",
    "                  'train_batch_size':64,\n",
    "                  'test_batch_size':64,\n",
    "                  'lr_reduction_rate':10,\n",
    "                  'lr_reduction_epoch':[49,63],\n",
    "                  'use_fixedsize_exemplars':True,\n",
    "                  'exemplars_set_size':2000,\n",
    "                  'final_train_epochs':5,\n",
    "                  'se':True,\n",
    "                  'primary_exemplars':'icarl_exemplars',\n",
    "                  'train_method':'train_distillation',\n",
    "                  'sample_weight':0,\n",
    "                  'shuffle_class_ord':False,\n",
    "                  'optimizer':'momentum',\n",
    "                  'ewc_lambda':0,\n",
    "                  'loss_function':'sigmoid_cross_entropy_with_logits'}\n",
    "    fixed_params={'dataset':'cifar100',\n",
    "                  'net_type':'ResNet32',\n",
    "                  'random_seed':1997,\n",
    "                  'total_num_classes':100,\n",
    "                  'base_dir':BASE_DIR,\n",
    "                  'class_batch_size':2,\n",
    "                  'use_theoretical_mean':True}\n",
    "#SupportNet settings\n",
    "elif ALGORITHM == 'SupportNet':\n",
    "    hyper_params={'beta':1e-5,\n",
    "                  'initial_lr':0.1,\n",
    "                  'train_batch_size':64,\n",
    "                  'test_batch_size':64,\n",
    "                  'lr_reduction_rate':10,\n",
    "                  'lr_reduction_epoch':[49,63],\n",
    "                  'use_fixedsize_exemplars':True,\n",
    "                  'exemplars_set_size':2000,\n",
    "                  'final_train_epochs':5,\n",
    "                  'se':True,\n",
    "                  'primary_exemplars':'svm_exemplars',\n",
    "                  'train_method':'train_plain',\n",
    "                  'sample_weight':0,\n",
    "                  'shuffle_class_ord':False,\n",
    "                  'optimizer':'momentum',\n",
    "                  'ewc_lambda':1e-2,\n",
    "                  'loss_function':'sigmoid_cross_entropy_with_logits'}\n",
    "    fixed_params={'dataset':'cifar100',\n",
    "                  'net_type':'ResNet32',\n",
    "                  'random_seed':1997,\n",
    "                  'total_num_classes':100,\n",
    "                  'base_dir':BASE_DIR,\n",
    "                  'class_batch_size':2,\n",
    "                  'use_theoretical_mean':True}\n",
    "#ewc settings\n",
    "elif ALGORITHM == 'ewc':\n",
    "    hyper_params={'beta':2e-5,\n",
    "                  'initial_lr':0.1,\n",
    "                  'train_batch_size':64,\n",
    "                  'test_batch_size':64,\n",
    "                  'lr_reduction_rate':10,\n",
    "                  'lr_reduction_epoch':[49,63],\n",
    "                  'use_fixedsize_exemplars':True,\n",
    "                  'exemplars_set_size':2000,\n",
    "                  'final_train_epochs':0,\n",
    "                  'se':True,\n",
    "                  'primary_exemplars':None,\n",
    "                  'train_method':'train_plain',\n",
    "                  'sample_weight':0,\n",
    "                  'shuffle_class_ord':False,\n",
    "                  'optimizer':'momentum',\n",
    "                  'ewc_lambda':1e-2,\n",
    "                  'loss_function':'sigmoid_cross_entropy_with_logits'}\n",
    "    fixed_params={'dataset':'cifar100',\n",
    "                  'net_type':'ResNet32',\n",
    "                  'random_seed':1997,\n",
    "                  'total_num_classes':100,\n",
    "                  'base_dir':BASE_DIR,\n",
    "                  'class_batch_size':2,\n",
    "                  'use_theoretical_mean':True}\n",
    "elif ALGORITHM == 'full_data':\n",
    "    hyper_params={'beta':1e-5,\n",
    "                  'initial_lr':2,\n",
    "                  'train_batch_size':64,\n",
    "                  'test_batch_size':64,\n",
    "                  'lr_reduction_rate':10,\n",
    "                  'lr_reduction_epoch':[49,63],\n",
    "                  'use_fixedsize_exemplars':True,\n",
    "                  'exemplars_set_size':2000,\n",
    "                  'final_train_epochs':0,\n",
    "                  'se':True,\n",
    "                  'primary_exemplars':None,\n",
    "                  'train_method':'train_plain',\n",
    "                  'sample_weight':0,\n",
    "                  'shuffle_class_ord':False,\n",
    "                  'optimizer':'momentum',\n",
    "                  'ewc_lambda':0,\n",
    "                  'loss_function':'sigmoid_cross_entropy_with_logits'}\n",
    "    fixed_params={'dataset':'cifar100',\n",
    "                  'net_type':'ResNet32',\n",
    "                  'random_seed':1997,\n",
    "                  'total_num_classes':100,\n",
    "                  'base_dir':BASE_DIR,\n",
    "                  'class_batch_size':CLASS_BATCH_SIZE,\n",
    "                  'use_theoretical_mean':True}\n",
    "else:\n",
    "    assert False"
   ]
  },
  {
   "cell_type": "code",
   "execution_count": 6,
   "metadata": {
    "scrolled": true
   },
   "outputs": [
    {
     "name": "stdout",
     "output_type": "stream",
     "text": [
      "Use ResNet32\n"
     ]
    },
    {
     "name": "stderr",
     "output_type": "stream",
     "text": [
      "/home/liz0f/SupportNet/train_procedures.py:50: UserWarning: when use ewc, loss_function should be softmax\n",
      "  warnings.warn('when use ewc, loss_function should be softmax')\n"
     ]
    },
    {
     "name": "stdout",
     "output_type": "stream",
     "text": [
      "Use ResNet32\n",
      "Use ResNet32\n"
     ]
    }
   ],
   "source": [
    "tf_tensors,tf_variables,tf_networks=build_graph(hyper_params,fixed_params)"
   ]
  },
  {
   "cell_type": "code",
   "execution_count": 7,
   "metadata": {
    "collapsed": true
   },
   "outputs": [],
   "source": [
    "gpu_options = tf.GPUOptions(per_process_gpu_memory_fraction=1)\n",
    "sess=tf.InteractiveSession(config=tf.ConfigProto(gpu_options=gpu_options))"
   ]
  },
  {
   "cell_type": "code",
   "execution_count": null,
   "metadata": {
    "collapsed": true
   },
   "outputs": [],
   "source": [
    "if ALGORITHM=='full_data':\n",
    "    fit(tf_tensors,tf_variables,tf_networks,fixed_params,hyper_params,data_dict,sess,resume=False,\n",
    "            save_params=True,evaluation_metric='top1_accuracy',save_history=True,\n",
    "            num_epochs=70,num_iterations=1,verbose=2,print_freq=1,pretrain_evaluation=1,override_warning=False)\n",
    "else:\n",
    "    fit(tf_tensors,tf_variables,tf_networks,fixed_params,hyper_params,data_dict,sess,resume=False,\n",
    "            save_params=True,evaluation_metric='top1_accuracy',save_history=True,\n",
    "            num_epochs=70,num_iterations=50,verbose=2,print_freq=1,pretrain_evaluation=1,override_warning=False)"
   ]
  },
  {
   "cell_type": "code",
   "execution_count": 8,
   "metadata": {
    "collapsed": true
   },
   "outputs": [],
   "source": [
    "data_dict_iterations=data_dict_each_iteration(\"Aug31-cifar100-SupportNet-full2\",50,2,data_dict)"
   ]
  },
  {
   "cell_type": "code",
   "execution_count": 9,
   "metadata": {},
   "outputs": [
    {
     "name": "stderr",
     "output_type": "stream",
     "text": [
      "/home/liz0f/.conda/envs/tf/lib/python3.6/site-packages/sklearn/metrics/classification.py:1135: UndefinedMetricWarning: Precision and F-score are ill-defined and being set to 0.0 in labels with no predicted samples.\n",
      "  'precision', 'predicted', average, warn_for)\n",
      "/home/liz0f/.conda/envs/tf/lib/python3.6/site-packages/sklearn/metrics/classification.py:1137: UndefinedMetricWarning: Recall and F-score are ill-defined and being set to 0.0 in labels with no true samples.\n",
      "  'recall', 'true', average, warn_for)\n",
      "/home/liz0f/.conda/envs/tf/lib/python3.6/site-packages/sklearn/metrics/classification.py:1135: UndefinedMetricWarning: Precision is ill-defined and being set to 0.0 in labels with no predicted samples.\n",
      "  'precision', 'predicted', average, warn_for)\n",
      "/home/liz0f/.conda/envs/tf/lib/python3.6/site-packages/sklearn/metrics/classification.py:1137: UndefinedMetricWarning: Recall is ill-defined and being set to 0.0 in labels with no true samples.\n",
      "  'recall', 'true', average, warn_for)\n",
      "/home/liz0f/.conda/envs/tf/lib/python3.6/site-packages/sklearn/metrics/classification.py:1135: UndefinedMetricWarning: F-score is ill-defined and being set to 0.0 in labels with no predicted samples.\n",
      "  'precision', 'predicted', average, warn_for)\n",
      "/home/liz0f/.conda/envs/tf/lib/python3.6/site-packages/sklearn/metrics/classification.py:1137: UndefinedMetricWarning: F-score is ill-defined and being set to 0.0 in labels with no true samples.\n",
      "  'recall', 'true', average, warn_for)\n"
     ]
    }
   ],
   "source": [
    "eval_vals_lists_test=eval_vals_each_iteration(\"Aug31-cifar100-SupportNet-full2\",50,2,hyper_params[\"test_batch_size\"],tf_tensors,tf_networks,data_dict_iterations,\"cifar100\",sess)"
   ]
  },
  {
   "cell_type": "code",
   "execution_count": 13,
   "metadata": {},
   "outputs": [],
   "source": [
    "with open(\"cifar100-output.csv\",'w') as f:\n",
    "    for i in range(0,len(eval_vals_lists_test)):\n",
    "        for j in range(0,len(eval_vals_lists_test)):\n",
    "            print(eval_vals_lists_test[i][j][\"top1_accuracy\"],end=\",\",file=f)\n",
    "        print(file=f)"
   ]
  }
 ],
 "metadata": {
  "kernelspec": {
   "display_name": "Python 3",
   "language": "python",
   "name": "python3"
  },
  "language_info": {
   "codemirror_mode": {
    "name": "ipython",
    "version": 3
   },
   "file_extension": ".py",
   "mimetype": "text/x-python",
   "name": "python",
   "nbconvert_exporter": "python",
   "pygments_lexer": "ipython3",
   "version": "3.6.2"
  }
 },
 "nbformat": 4,
 "nbformat_minor": 2
}

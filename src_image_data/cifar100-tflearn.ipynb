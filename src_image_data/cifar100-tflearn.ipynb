{
 "cells": [
  {
   "cell_type": "code",
   "execution_count": 1,
   "metadata": {},
   "outputs": [],
   "source": [
    "import tflearn\n",
    "from tflearn.datasets import cifar100\n",
    "import numpy as np"
   ]
  },
  {
   "cell_type": "code",
   "execution_count": 2,
   "metadata": {},
   "outputs": [],
   "source": [
    "# Residual blocks\n",
    "# 32 layers: n=5, 56 layers: n=9, 110 layers: n=18\n",
    "n = 5\n",
    "\n",
    "# Data loading\n",
    "\n",
    "(X, Y), (testX, testY) = cifar100.load_data('./cifar-100-python')\n",
    "Y = tflearn.data_utils.to_categorical(Y,nb_classes=100)\n",
    "testY = tflearn.data_utils.to_categorical(testY,nb_classes=100)\n",
    "X=X.astype(np.float32)\n",
    "Y=Y.astype(np.float32)\n",
    "testX=testX.astype(np.float32)\n",
    "testY=testY.astype(np.float32)\n",
    "# Real-time data preprocessing\n",
    "img_prep = tflearn.ImagePreprocessing()\n",
    "img_prep.add_featurewise_zero_center(per_channel=True)\n",
    "\n",
    "# Real-time data augmentation\n",
    "img_aug = tflearn.ImageAugmentation()\n",
    "img_aug.add_random_flip_leftright()\n",
    "img_aug.add_random_crop([32, 32], padding=4)"
   ]
  },
  {
   "cell_type": "code",
   "execution_count": 9,
   "metadata": {},
   "outputs": [
    {
     "name": "stdout",
     "output_type": "stream",
     "text": [
      "Help on function conv_2d in module tflearn.layers.conv:\n",
      "\n",
      "conv_2d(incoming, nb_filter, filter_size, strides=1, padding='same', activation='linear', bias=True, weights_init='uniform_scaling', bias_init='zeros', regularizer=None, weight_decay=0.001, trainable=True, restore=True, reuse=False, scope=None, name='Conv2D')\n",
      "    Convolution 2D.\n",
      "    \n",
      "    Input:\n",
      "        4-D Tensor [batch, height, width, in_channels].\n",
      "    \n",
      "    Output:\n",
      "        4-D Tensor [batch, new height, new width, nb_filter].\n",
      "    \n",
      "    Arguments:\n",
      "        incoming: `Tensor`. Incoming 4-D Tensor.\n",
      "        nb_filter: `int`. The number of convolutional filters.\n",
      "        filter_size: `int` or `list of int`. Size of filters.\n",
      "        strides: 'int` or list of `int`. Strides of conv operation.\n",
      "            Default: [1 1 1 1].\n",
      "        padding: `str` from `\"same\", \"valid\"`. Padding algo to use.\n",
      "            Default: 'same'.\n",
      "        activation: `str` (name) or `function` (returning a `Tensor`) or None.\n",
      "            Activation applied to this layer (see tflearn.activations).\n",
      "            Default: 'linear'.\n",
      "        bias: `bool`. If True, a bias is used.\n",
      "        weights_init: `str` (name) or `Tensor`. Weights initialization.\n",
      "            (see tflearn.initializations) Default: 'truncated_normal'.\n",
      "        bias_init: `str` (name) or `Tensor`. Bias initialization.\n",
      "            (see tflearn.initializations) Default: 'zeros'.\n",
      "        regularizer: `str` (name) or `Tensor`. Add a regularizer to this\n",
      "            layer weights (see tflearn.regularizers). Default: None.\n",
      "        weight_decay: `float`. Regularizer decay parameter. Default: 0.001.\n",
      "        trainable: `bool`. If True, weights will be trainable.\n",
      "        restore: `bool`. If True, this layer weights will be restored when\n",
      "            loading a model.\n",
      "        reuse: `bool`. If True and 'scope' is provided, this layer variables\n",
      "            will be reused (shared).\n",
      "        scope: `str`. Define this layer scope (optional). A scope can be\n",
      "            used to share variables between layers. Note that scope will\n",
      "            override name.\n",
      "        name: A name for this layer (optional). Default: 'Conv2D'.\n",
      "    \n",
      "    Attributes:\n",
      "        scope: `Scope`. This layer scope.\n",
      "        W: `Variable`. Variable representing filter weights.\n",
      "        b: `Variable`. Variable representing biases.\n",
      "\n"
     ]
    }
   ],
   "source": [
    "help(tflearn.conv_2d)"
   ]
  },
  {
   "cell_type": "code",
   "execution_count": 3,
   "metadata": {},
   "outputs": [],
   "source": [
    "# Building Residual Network\n",
    "tflearn.config.init_graph(gpu_memory_fraction=0.4)\n",
    "net = tflearn.input_data(shape=[None, 32, 32, 3],\n",
    "                         data_preprocessing=img_prep,\n",
    "                         data_augmentation=img_aug)\n",
    "net = tflearn.conv_2d(net, 16, 3, regularizer='L2', weight_decay=0.0001)\n",
    "net = tflearn.residual_block(net, n, 16)\n",
    "net = tflearn.residual_block(net, 1, 32, downsample=True)\n",
    "net = tflearn.residual_block(net, n-1, 32)\n",
    "net = tflearn.residual_block(net, 1, 64, downsample=True)\n",
    "net = tflearn.residual_block(net, n-1, 64)\n",
    "net = tflearn.batch_normalization(net)\n",
    "net = tflearn.activation(net, 'relu')\n",
    "net = tflearn.global_avg_pool(net)\n",
    "# Regression\n",
    "net = tflearn.fully_connected(net, 100, activation='softmax')\n",
    "mom = tflearn.Momentum(1., lr_decay=0.1, decay_step=32000, staircase=True)\n",
    "net = tflearn.regression(net, optimizer=mom,\n",
    "                         loss='categorical_crossentropy')\n",
    "# Training\n",
    "model = tflearn.DNN(net, checkpoint_path='model_resnet_cifar100',\n",
    "                    max_checkpoints=10, tensorboard_verbose=0,\n",
    "                    clip_gradients=0.)\n"
   ]
  },
  {
   "cell_type": "code",
   "execution_count": 12,
   "metadata": {},
   "outputs": [
    {
     "name": "stdout",
     "output_type": "stream",
     "text": [
      "Help on function fully_connected in module tflearn.layers.core:\n",
      "\n",
      "fully_connected(incoming, n_units, activation='linear', bias=True, weights_init='truncated_normal', bias_init='zeros', regularizer=None, weight_decay=0.001, trainable=True, restore=True, reuse=False, scope=None, name='FullyConnected')\n",
      "    Fully Connected.\n",
      "    \n",
      "    A fully connected layer.\n",
      "    \n",
      "    Input:\n",
      "        (2+)-D Tensor [samples, input dim]. If not 2D, input will be flatten.\n",
      "    \n",
      "    Output:\n",
      "        2D Tensor [samples, n_units].\n",
      "    \n",
      "    Arguments:\n",
      "        incoming: `Tensor`. Incoming (2+)D Tensor.\n",
      "        n_units: `int`, number of units for this layer.\n",
      "        activation: `str` (name) or `function` (returning a `Tensor`).\n",
      "            Activation applied to this layer (see tflearn.activations).\n",
      "            Default: 'linear'.\n",
      "        bias: `bool`. If True, a bias is used.\n",
      "        weights_init: `str` (name) or `Tensor`. Weights initialization.\n",
      "            (see tflearn.initializations) Default: 'truncated_normal'.\n",
      "        bias_init: `str` (name) or `Tensor`. Bias initialization.\n",
      "            (see tflearn.initializations) Default: 'zeros'.\n",
      "        regularizer: `str` (name) or `Tensor`. Add a regularizer to this\n",
      "            layer weights (see tflearn.regularizers). Default: None.\n",
      "        weight_decay: `float`. Regularizer decay parameter. Default: 0.001.\n",
      "        trainable: `bool`. If True, weights will be trainable.\n",
      "        restore: `bool`. If True, this layer weights will be restored when\n",
      "            loading a model.\n",
      "        reuse: `bool`. If True and 'scope' is provided, this layer variables\n",
      "            will be reused (shared).\n",
      "        scope: `str`. Define this layer scope (optional). A scope can be\n",
      "            used to share variables between layers. Note that scope will\n",
      "            override name.\n",
      "        name: A name for this layer (optional). Default: 'FullyConnected'.\n",
      "    \n",
      "    Attributes:\n",
      "        scope: `Scope`. This layer scope.\n",
      "        W: `Tensor`. Variable representing units weights.\n",
      "        b: `Tensor`. Variable representing biases.\n",
      "\n"
     ]
    }
   ],
   "source": [
    "help(tflearn.fully_connected)"
   ]
  },
  {
   "cell_type": "code",
   "execution_count": 4,
   "metadata": {},
   "outputs": [
    {
     "name": "stdout",
     "output_type": "stream",
     "text": [
      "Training Step: 37540  | total loss: \u001b[1m\u001b[32m0.85350\u001b[0m\u001b[0m | time: 0.362s\n",
      "\u001b[2K\r",
      "| Momentum | epoch: 097 | loss: 0.85350 - acc: 0.7365 -- iter: 00512/50000\n"
     ]
    },
    {
     "name": "stderr",
     "output_type": "stream",
     "text": [
      "IOPub message rate exceeded.\n",
      "The notebook server will temporarily stop sending output\n",
      "to the client in order to avoid crashing it.\n",
      "To change this limit, set the config variable\n",
      "`--NotebookApp.iopub_msg_rate_limit`.\n",
      "\n",
      "Current values:\n",
      "NotebookApp.iopub_msg_rate_limit=1000.0 (msgs/sec)\n",
      "NotebookApp.rate_limit_window=3.0 (secs)\n",
      "\n"
     ]
    }
   ],
   "source": [
    "model.fit(X[::], Y[::], n_epoch=100, validation_set=(testX, testY),\n",
    "          snapshot_epoch=False, snapshot_step=100,\n",
    "          show_metric=True, batch_size=128, shuffle=True,\n",
    "          run_id='resnet_cifar100')"
   ]
  }
 ],
 "metadata": {
  "kernelspec": {
   "display_name": "Python 3",
   "language": "python",
   "name": "python3"
  },
  "language_info": {
   "codemirror_mode": {
    "name": "ipython",
    "version": 3
   },
   "file_extension": ".py",
   "mimetype": "text/x-python",
   "name": "python",
   "nbconvert_exporter": "python",
   "pygments_lexer": "ipython3",
   "version": "3.6.5"
  }
 },
 "nbformat": 4,
 "nbformat_minor": 2
}

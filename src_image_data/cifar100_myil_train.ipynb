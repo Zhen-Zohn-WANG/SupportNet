{
 "cells": [
  {
   "cell_type": "code",
   "execution_count": 3,
   "metadata": {},
   "outputs": [],
   "source": [
    "import os\n",
    "os.environ['CUDA_VISIBLE_DEVICES']=\"1\"\n",
    "import pandas as pd\n",
    "import numpy as np\n",
    "from collections import defaultdict\n",
    "from itertools import combinations\n",
    "from itertools import chain\n",
    "from collections import namedtuple\n",
    "import pickle\n",
    "import tensorflow as tf\n",
    "import tflearn\n",
    "import matplotlib.pyplot as plt\n",
    "import os.path\n",
    "import shutil\n",
    "import inspect\n",
    "from nn_lib import *\n",
    "from train_utils import *\n",
    "from cifar100_utils import *\n",
    "from ft_utils import *\n",
    "from icarl_utils import *\n",
    "from ewc_utils import *\n",
    "from myil import *\n",
    "import matplotlib.pyplot as plt\n",
    "import json\n",
    "from pprint import pprint\n",
    "from copy import copy\n",
    "from sklearn.metrics import confusion_matrix\n",
    "import seaborn as sns\n",
    "np.random.seed(1997)\n",
    "%load_ext autoreload\n",
    "%autoreload 2"
   ]
  },
  {
   "cell_type": "code",
   "execution_count": 4,
   "metadata": {},
   "outputs": [],
   "source": [
    "data_dict=load_cifar100_data()"
   ]
  },
  {
   "cell_type": "code",
   "execution_count": 5,
   "metadata": {},
   "outputs": [],
   "source": [
    "data_dict_total=data_dict"
   ]
  },
  {
   "cell_type": "code",
   "execution_count": 52,
   "metadata": {},
   "outputs": [],
   "source": [
    "hyper_params={'beta':1e-5,'initial_lr':2,'train_batch_size':128,'test_batch_size':128,'lr_reduction_rate':5,'lr_reduction_epoch':[49,63],\n",
    "              'exemplar_set_size':50,'final_train_epochs':5,'train_method':'train_distillation_and_ground_truth','sample_weight':'half','lambda':10,'se':True,'primary_exemplar':'svm_exemplar'}\n",
    "fixed_params={'net_type':'ResNet32','random_seed':1997,'total_num_classes':100,'base_dir':'./cifar100_icarl_debug_temp','class_batch_size':10,'use_theoretical_mean':True}"
   ]
  },
  {
   "cell_type": "code",
   "execution_count": 53,
   "metadata": {},
   "outputs": [],
   "source": [
    "tf_tensors,tf_variables,tf_networks=build_graph_icarl(hyper_params,fixed_params)"
   ]
  },
  {
   "cell_type": "code",
   "execution_count": 54,
   "metadata": {},
   "outputs": [],
   "source": [
    "gpu_options = tf.GPUOptions(per_process_gpu_memory_fraction=0.5)\n",
    "sess=tf.InteractiveSession(config=tf.ConfigProto(gpu_options=gpu_options))"
   ]
  },
  {
   "cell_type": "code",
   "execution_count": 61,
   "metadata": {},
   "outputs": [
    {
     "name": "stdout",
     "output_type": "stream",
     "text": [
      "{'base_dir': './cifar100_icarl_debug_temp',\n",
      " 'class_batch_size': 10,\n",
      " 'net_type': 'ResNet32',\n",
      " 'random_seed': 1997,\n",
      " 'total_num_classes': 100,\n",
      " 'use_theoretical_mean': True}\n",
      "{'beta': 1e-05,\n",
      " 'exemplar_set_size': 50,\n",
      " 'final_train_epochs': 5,\n",
      " 'initial_lr': 2,\n",
      " 'lambda': 10,\n",
      " 'lr_reduction_epoch': [49, 63],\n",
      " 'lr_reduction_rate': 5,\n",
      " 'primary_exemplar': 'svm_exemplar',\n",
      " 'sample_weight': 'half',\n",
      " 'se': True,\n",
      " 'test_batch_size': 128,\n",
      " 'train_batch_size': 128,\n",
      " 'train_method': 'train_distillation_and_ground_truth'}\n",
      "./cifar100_icarl_debug_temp already exists, override?y\n",
      "===========Iteration 1=============\n",
      "Using classes [88, 77, 36, 54, 92, 4, 11, 24, 71, 31]\n",
      "Class batch pretrain evaluation (plain method)\n",
      "\tTrain loss: 0.792616\n",
      "\tTrain class loss: 0.777767\n",
      "\tTrain reg loss: 0.067708\n",
      "\tValidation loss: 0.793290\n",
      "\tValidation class loss: 0.778441\n",
      "\tValidation reg loss: 0.014849\n",
      "\tTop1 train accuracy: 0.067708\n",
      "\tTop5 train accuracy: 0.100160\n",
      "\tTop1 validation accuracy: 0.074777\n",
      "\tTop5 validation accuracy: 0.099330\n",
      "Epoch 1\n",
      "\tTrain loss: 0.088436\n",
      "\tTrain class loss: 0.072798\n",
      "\tTrain reg loss: 0.015638\n",
      "\tValidation loss: 0.043570\n",
      "\tValidation class loss: 0.027542\n",
      "\tValidation reg loss: 0.016028\n",
      "\tTop1 train accuracy: 0.236378\n",
      "\tTop5 train accuracy: 0.664263\n",
      "\tTop1 validation accuracy: 0.322545\n",
      "\tTop5 validation accuracy: 0.839286\n",
      "epoch 1, global step 1, time 7.248620\n",
      "saving model parameters...\n",
      "On iteration 1\n",
      "Plain evaluation before retrain\n",
      "\tBest top1 validation accuracy: 0.322545\n",
      "\tBest top5 validation accuracy: 0.839286\n",
      "\tBest top1 cumul accuracy: 0.322545\n",
      "\tBest top5 cumul accuracy: 0.839286\n",
      "\tBest top1 ori accuracy: 0.322545\n",
      "\tBest top5 ori accuracy: 0.839286\n",
      "retraining last layer\n",
      "Epoch 1\n",
      "Epoch 2\n",
      "Epoch 3\n",
      "Epoch 4\n",
      "Epoch 5\n",
      "Plain evaluation after retrain\n",
      "\tBest top1 validation accuracy: 0.404018\n",
      "\tBest top5 validation accuracy: 0.857143\n",
      "\tBest top1 cumul accuracy: 0.404018\n",
      "\tBest top5 cumul accuracy: 0.857143\n",
      "\tBest top1 ori accuracy: 0.404018\n",
      "\tBest top5 ori accuracy: 0.857143\n",
      "SVM evaluation\n",
      "\tBest top1 validation accuracy: 0.390000\n",
      "\tBest top1 cumul accuracy: 0.390000\n",
      "\tBest top1 ori accuracy: 0.390000\n",
      "Exemplar mean evaluation\n",
      "\tBest top1 validation accuracy: 0.361000\n",
      "\tBest top5 validation accuracy: 0.831000\n",
      "\tBest top1 cumul accuracy: 0.361000\n",
      "\tBest top5 cumul accuracy: 0.831000\n",
      "\tBest top1 ori accuracy: 0.361000\n",
      "\tBest top5 ori accuracy: 0.831000\n",
      "Theoretical mean evaluation\n",
      "\tBest top1 validation accuracy: 0.374000\n",
      "\tBest top5 validation accuracy: 0.833000\n",
      "\tBest top1 cumul accuracy: 0.374000\n",
      "\tBest top5 cumul accuracy: 0.833000\n",
      "\tBest top1 ori accuracy: 0.374000\n",
      "\tBest top5 ori accuracy: 0.833000\n",
      "===========Final Evaluation=============\n",
      "Final evaluation on all classes (plain method)\n",
      "\tTrain loss: 0.174352\n",
      "\tTrain class loss: 0.158324\n",
      "\tTrain reg loss: 0.034195\n",
      "\tValidation loss: 0.174390\n",
      "\tValidation class loss: 0.158361\n",
      "\tValidation reg loss: 0.016028\n",
      "\tTop1 train accuracy: 0.034195\n",
      "\tTop5 train accuracy: 0.083534\n",
      "\tTop1 validation accuracy: 0.031550\n",
      "\tTop5 validation accuracy: 0.083934\n",
      "Final evaluation on all classes (Exemplar mean)\n",
      "\tBest top1 validation accuracy: 0.036200\n",
      "\tBest top5 validation accuracy: 0.081300\n",
      "Final evaluation on all classes (Theoretical mean)\n",
      "\tBest top1 validation accuracy: 0.034800\n",
      "\tBest top5 validation accuracy: 0.081200\n"
     ]
    }
   ],
   "source": [
    "fit_icarl(tf_tensors,tf_variables,tf_networks,fixed_params,hyper_params,data_dict,sess,resume=False,\n",
    "        save_session=False,save_session_freq=1,save_params=True,evaluation_metric='top1_accuracy',save_history=True,\n",
    "        num_epochs=1,num_iterations=1,verbose=2,print_freq=1,pretrain_evaluation=1,override_warning=True)"
   ]
  },
  {
   "cell_type": "code",
   "execution_count": 25,
   "metadata": {},
   "outputs": [
    {
     "data": {
      "text/plain": [
       "['conv_1/W',\n",
       " 'resconv1_2a/W',\n",
       " 'resconv2_2a/W',\n",
       " 'resconv1_2b/W',\n",
       " 'resconv2_2b/W',\n",
       " 'resconv1_2c/W',\n",
       " 'resconv2_2c/W',\n",
       " 'resconv1_2d/W',\n",
       " 'resconv2_2d/W',\n",
       " 'resconv1_2e/W',\n",
       " 'resconv2_2e/W',\n",
       " 'resconv1_3a/W',\n",
       " 'resconv2_3a/W',\n",
       " 'resconv1_3b/W',\n",
       " 'resconv2_3b/W',\n",
       " 'resconv1_3c/W',\n",
       " 'resconv2_3c/W',\n",
       " 'resconv1_3d/W',\n",
       " 'resconv2_3d/W',\n",
       " 'resconv1_3e/W',\n",
       " 'resconv2_3e/W',\n",
       " 'resconv1_4a/W',\n",
       " 'resconv2_4a/W',\n",
       " 'resconv1_4b/W',\n",
       " 'resconv2_4b/W',\n",
       " 'resconv1_4c/W',\n",
       " 'resconv2_4c/W',\n",
       " 'resconv1_4d/W',\n",
       " 'resconv2_4d/W',\n",
       " 'resconv1_4e/W',\n",
       " 'resconv2_4e/W',\n",
       " 'fc/W']"
      ]
     },
     "execution_count": 25,
     "metadata": {},
     "output_type": "execute_result"
    }
   ],
   "source": [
    "list(tf_networks['train_network'].prev_variables.keys())"
   ]
  },
  {
   "cell_type": "code",
   "execution_count": 30,
   "metadata": {},
   "outputs": [
    {
     "data": {
      "text/plain": [
       "['conv_1/W',\n",
       " 'resconv1_2a/W',\n",
       " 'resconv2_2a/W',\n",
       " 'resconv1_2b/W',\n",
       " 'resconv2_2b/W',\n",
       " 'resconv1_2c/W',\n",
       " 'resconv2_2c/W',\n",
       " 'resconv1_2d/W',\n",
       " 'resconv2_2d/W',\n",
       " 'resconv1_2e/W',\n",
       " 'resconv2_2e/W',\n",
       " 'resconv1_3a/W',\n",
       " 'resconv2_3a/W',\n",
       " 'resconv1_3b/W',\n",
       " 'resconv2_3b/W',\n",
       " 'resconv1_3c/W',\n",
       " 'resconv2_3c/W',\n",
       " 'resconv1_3d/W',\n",
       " 'resconv2_3d/W',\n",
       " 'resconv1_3e/W',\n",
       " 'resconv2_3e/W',\n",
       " 'resconv1_4a/W',\n",
       " 'resconv2_4a/W',\n",
       " 'resconv1_4b/W',\n",
       " 'resconv2_4b/W',\n",
       " 'resconv1_4c/W',\n",
       " 'resconv2_4c/W',\n",
       " 'resconv1_4d/W',\n",
       " 'resconv2_4d/W',\n",
       " 'resconv1_4e/W',\n",
       " 'resconv2_4e/W',\n",
       " 'fc/W']"
      ]
     },
     "execution_count": 30,
     "metadata": {},
     "output_type": "execute_result"
    }
   ],
   "source": [
    "list(tf_networks['train_network'].fisher_variables.keys())"
   ]
  },
  {
   "cell_type": "code",
   "execution_count": 60,
   "metadata": {},
   "outputs": [
    {
     "data": {
      "text/plain": [
       "['input',\n",
       " 'conv_1',\n",
       " 'batch_norm_1',\n",
       " 'residual_block_2a',\n",
       " 'residual_block_2b',\n",
       " 'residual_block_2c',\n",
       " 'residual_block_2d',\n",
       " 'residual_block_2e',\n",
       " 'residual_block_3a',\n",
       " 'residual_block_3b',\n",
       " 'residual_block_3c',\n",
       " 'residual_block_3d',\n",
       " 'residual_block_3e',\n",
       " 'residual_block_4a',\n",
       " 'residual_block_4b',\n",
       " 'residual_block_4c',\n",
       " 'residual_block_4d',\n",
       " 'residual_block_4e',\n",
       " 'pool_last',\n",
       " 'fc',\n",
       " 'l2_loss',\n",
       " 'ewc_loss']"
      ]
     },
     "execution_count": 60,
     "metadata": {},
     "output_type": "execute_result"
    }
   ],
   "source": [
    "list(tf_networks['train_network'].tf_tensors.keys())"
   ]
  },
  {
   "cell_type": "code",
   "execution_count": 80,
   "metadata": {},
   "outputs": [
    {
     "ename": "FailedPreconditionError",
     "evalue": "Attempting to use uninitialized value ResNet32_train/conv_1/W\n\t [[Node: ResNet32_train/conv_1/W/_0 = _Send[T=DT_FLOAT, client_terminated=false, recv_device=\"/job:localhost/replica:0/task:0/cpu:0\", send_device=\"/job:localhost/replica:0/task:0/gpu:0\", send_device_incarnation=1, tensor_name=\"edge_4_ResNet32_train/conv_1/W\", _device=\"/job:localhost/replica:0/task:0/gpu:0\"](ResNet32_train/conv_1/W)]]\n\t [[Node: ResNet32_train/conv_1/W/_1 = _Recv[_start_time=0, client_terminated=false, recv_device=\"/job:localhost/replica:0/task:0/cpu:0\", send_device=\"/job:localhost/replica:0/task:0/gpu:0\", send_device_incarnation=1, tensor_name=\"edge_4_ResNet32_train/conv_1/W\", tensor_type=DT_FLOAT, _device=\"/job:localhost/replica:0/task:0/cpu:0\"]()]]",
     "output_type": "error",
     "traceback": [
      "\u001b[0;31m---------------------------------------------------------------------------\u001b[0m",
      "\u001b[0;31mFailedPreconditionError\u001b[0m                   Traceback (most recent call last)",
      "\u001b[0;32m~/.conda/envs/tf/lib/python3.6/site-packages/tensorflow/python/client/session.py\u001b[0m in \u001b[0;36m_do_call\u001b[0;34m(self, fn, *args)\u001b[0m\n\u001b[1;32m   1326\u001b[0m     \u001b[0;32mtry\u001b[0m\u001b[0;34m:\u001b[0m\u001b[0;34m\u001b[0m\u001b[0m\n\u001b[0;32m-> 1327\u001b[0;31m       \u001b[0;32mreturn\u001b[0m \u001b[0mfn\u001b[0m\u001b[0;34m(\u001b[0m\u001b[0;34m*\u001b[0m\u001b[0margs\u001b[0m\u001b[0;34m)\u001b[0m\u001b[0;34m\u001b[0m\u001b[0m\n\u001b[0m\u001b[1;32m   1328\u001b[0m     \u001b[0;32mexcept\u001b[0m \u001b[0merrors\u001b[0m\u001b[0;34m.\u001b[0m\u001b[0mOpError\u001b[0m \u001b[0;32mas\u001b[0m \u001b[0me\u001b[0m\u001b[0;34m:\u001b[0m\u001b[0;34m\u001b[0m\u001b[0m\n",
      "\u001b[0;32m~/.conda/envs/tf/lib/python3.6/site-packages/tensorflow/python/client/session.py\u001b[0m in \u001b[0;36m_run_fn\u001b[0;34m(session, feed_dict, fetch_list, target_list, options, run_metadata)\u001b[0m\n\u001b[1;32m   1305\u001b[0m                                    \u001b[0mfeed_dict\u001b[0m\u001b[0;34m,\u001b[0m \u001b[0mfetch_list\u001b[0m\u001b[0;34m,\u001b[0m \u001b[0mtarget_list\u001b[0m\u001b[0;34m,\u001b[0m\u001b[0;34m\u001b[0m\u001b[0m\n\u001b[0;32m-> 1306\u001b[0;31m                                    status, run_metadata)\n\u001b[0m\u001b[1;32m   1307\u001b[0m \u001b[0;34m\u001b[0m\u001b[0m\n",
      "\u001b[0;32m~/.conda/envs/tf/lib/python3.6/contextlib.py\u001b[0m in \u001b[0;36m__exit__\u001b[0;34m(self, type, value, traceback)\u001b[0m\n\u001b[1;32m     87\u001b[0m             \u001b[0;32mtry\u001b[0m\u001b[0;34m:\u001b[0m\u001b[0;34m\u001b[0m\u001b[0m\n\u001b[0;32m---> 88\u001b[0;31m                 \u001b[0mnext\u001b[0m\u001b[0;34m(\u001b[0m\u001b[0mself\u001b[0m\u001b[0;34m.\u001b[0m\u001b[0mgen\u001b[0m\u001b[0;34m)\u001b[0m\u001b[0;34m\u001b[0m\u001b[0m\n\u001b[0m\u001b[1;32m     89\u001b[0m             \u001b[0;32mexcept\u001b[0m \u001b[0mStopIteration\u001b[0m\u001b[0;34m:\u001b[0m\u001b[0;34m\u001b[0m\u001b[0m\n",
      "\u001b[0;32m~/.conda/envs/tf/lib/python3.6/site-packages/tensorflow/python/framework/errors_impl.py\u001b[0m in \u001b[0;36mraise_exception_on_not_ok_status\u001b[0;34m()\u001b[0m\n\u001b[1;32m    465\u001b[0m           \u001b[0mcompat\u001b[0m\u001b[0;34m.\u001b[0m\u001b[0mas_text\u001b[0m\u001b[0;34m(\u001b[0m\u001b[0mpywrap_tensorflow\u001b[0m\u001b[0;34m.\u001b[0m\u001b[0mTF_Message\u001b[0m\u001b[0;34m(\u001b[0m\u001b[0mstatus\u001b[0m\u001b[0;34m)\u001b[0m\u001b[0;34m)\u001b[0m\u001b[0;34m,\u001b[0m\u001b[0;34m\u001b[0m\u001b[0m\n\u001b[0;32m--> 466\u001b[0;31m           pywrap_tensorflow.TF_GetCode(status))\n\u001b[0m\u001b[1;32m    467\u001b[0m   \u001b[0;32mfinally\u001b[0m\u001b[0;34m:\u001b[0m\u001b[0;34m\u001b[0m\u001b[0m\n",
      "\u001b[0;31mFailedPreconditionError\u001b[0m: Attempting to use uninitialized value ResNet32_train/conv_1/W\n\t [[Node: ResNet32_train/conv_1/W/_0 = _Send[T=DT_FLOAT, client_terminated=false, recv_device=\"/job:localhost/replica:0/task:0/cpu:0\", send_device=\"/job:localhost/replica:0/task:0/gpu:0\", send_device_incarnation=1, tensor_name=\"edge_4_ResNet32_train/conv_1/W\", _device=\"/job:localhost/replica:0/task:0/gpu:0\"](ResNet32_train/conv_1/W)]]\n\t [[Node: ResNet32_train/conv_1/W/_1 = _Recv[_start_time=0, client_terminated=false, recv_device=\"/job:localhost/replica:0/task:0/cpu:0\", send_device=\"/job:localhost/replica:0/task:0/gpu:0\", send_device_incarnation=1, tensor_name=\"edge_4_ResNet32_train/conv_1/W\", tensor_type=DT_FLOAT, _device=\"/job:localhost/replica:0/task:0/cpu:0\"]()]]",
      "\nDuring handling of the above exception, another exception occurred:\n",
      "\u001b[0;31mFailedPreconditionError\u001b[0m                   Traceback (most recent call last)",
      "\u001b[0;32m<ipython-input-80-bed602a2aeaf>\u001b[0m in \u001b[0;36m<module>\u001b[0;34m()\u001b[0m\n\u001b[0;32m----> 1\u001b[0;31m \u001b[0msess\u001b[0m\u001b[0;34m.\u001b[0m\u001b[0mrun\u001b[0m\u001b[0;34m(\u001b[0m\u001b[0;34m(\u001b[0m\u001b[0mtf_networks\u001b[0m\u001b[0;34m[\u001b[0m\u001b[0;34m'train_network'\u001b[0m\u001b[0;34m]\u001b[0m\u001b[0;34m.\u001b[0m\u001b[0mregularizable_variables\u001b[0m\u001b[0;34m[\u001b[0m\u001b[0;34m'conv_1/W'\u001b[0m\u001b[0;34m]\u001b[0m\u001b[0;34m)\u001b[0m\u001b[0;34m)\u001b[0m\u001b[0;34m\u001b[0m\u001b[0m\n\u001b[0m",
      "\u001b[0;32m~/.conda/envs/tf/lib/python3.6/site-packages/tensorflow/python/client/session.py\u001b[0m in \u001b[0;36mrun\u001b[0;34m(self, fetches, feed_dict, options, run_metadata)\u001b[0m\n\u001b[1;32m    893\u001b[0m     \u001b[0;32mtry\u001b[0m\u001b[0;34m:\u001b[0m\u001b[0;34m\u001b[0m\u001b[0m\n\u001b[1;32m    894\u001b[0m       result = self._run(None, fetches, feed_dict, options_ptr,\n\u001b[0;32m--> 895\u001b[0;31m                          run_metadata_ptr)\n\u001b[0m\u001b[1;32m    896\u001b[0m       \u001b[0;32mif\u001b[0m \u001b[0mrun_metadata\u001b[0m\u001b[0;34m:\u001b[0m\u001b[0;34m\u001b[0m\u001b[0m\n\u001b[1;32m    897\u001b[0m         \u001b[0mproto_data\u001b[0m \u001b[0;34m=\u001b[0m \u001b[0mtf_session\u001b[0m\u001b[0;34m.\u001b[0m\u001b[0mTF_GetBuffer\u001b[0m\u001b[0;34m(\u001b[0m\u001b[0mrun_metadata_ptr\u001b[0m\u001b[0;34m)\u001b[0m\u001b[0;34m\u001b[0m\u001b[0m\n",
      "\u001b[0;32m~/.conda/envs/tf/lib/python3.6/site-packages/tensorflow/python/client/session.py\u001b[0m in \u001b[0;36m_run\u001b[0;34m(self, handle, fetches, feed_dict, options, run_metadata)\u001b[0m\n\u001b[1;32m   1122\u001b[0m     \u001b[0;32mif\u001b[0m \u001b[0mfinal_fetches\u001b[0m \u001b[0;32mor\u001b[0m \u001b[0mfinal_targets\u001b[0m \u001b[0;32mor\u001b[0m \u001b[0;34m(\u001b[0m\u001b[0mhandle\u001b[0m \u001b[0;32mand\u001b[0m \u001b[0mfeed_dict_tensor\u001b[0m\u001b[0;34m)\u001b[0m\u001b[0;34m:\u001b[0m\u001b[0;34m\u001b[0m\u001b[0m\n\u001b[1;32m   1123\u001b[0m       results = self._do_run(handle, final_targets, final_fetches,\n\u001b[0;32m-> 1124\u001b[0;31m                              feed_dict_tensor, options, run_metadata)\n\u001b[0m\u001b[1;32m   1125\u001b[0m     \u001b[0;32melse\u001b[0m\u001b[0;34m:\u001b[0m\u001b[0;34m\u001b[0m\u001b[0m\n\u001b[1;32m   1126\u001b[0m       \u001b[0mresults\u001b[0m \u001b[0;34m=\u001b[0m \u001b[0;34m[\u001b[0m\u001b[0;34m]\u001b[0m\u001b[0;34m\u001b[0m\u001b[0m\n",
      "\u001b[0;32m~/.conda/envs/tf/lib/python3.6/site-packages/tensorflow/python/client/session.py\u001b[0m in \u001b[0;36m_do_run\u001b[0;34m(self, handle, target_list, fetch_list, feed_dict, options, run_metadata)\u001b[0m\n\u001b[1;32m   1319\u001b[0m     \u001b[0;32mif\u001b[0m \u001b[0mhandle\u001b[0m \u001b[0;32mis\u001b[0m \u001b[0;32mNone\u001b[0m\u001b[0;34m:\u001b[0m\u001b[0;34m\u001b[0m\u001b[0m\n\u001b[1;32m   1320\u001b[0m       return self._do_call(_run_fn, self._session, feeds, fetches, targets,\n\u001b[0;32m-> 1321\u001b[0;31m                            options, run_metadata)\n\u001b[0m\u001b[1;32m   1322\u001b[0m     \u001b[0;32melse\u001b[0m\u001b[0;34m:\u001b[0m\u001b[0;34m\u001b[0m\u001b[0m\n\u001b[1;32m   1323\u001b[0m       \u001b[0;32mreturn\u001b[0m \u001b[0mself\u001b[0m\u001b[0;34m.\u001b[0m\u001b[0m_do_call\u001b[0m\u001b[0;34m(\u001b[0m\u001b[0m_prun_fn\u001b[0m\u001b[0;34m,\u001b[0m \u001b[0mself\u001b[0m\u001b[0;34m.\u001b[0m\u001b[0m_session\u001b[0m\u001b[0;34m,\u001b[0m \u001b[0mhandle\u001b[0m\u001b[0;34m,\u001b[0m \u001b[0mfeeds\u001b[0m\u001b[0;34m,\u001b[0m \u001b[0mfetches\u001b[0m\u001b[0;34m)\u001b[0m\u001b[0;34m\u001b[0m\u001b[0m\n",
      "\u001b[0;32m~/.conda/envs/tf/lib/python3.6/site-packages/tensorflow/python/client/session.py\u001b[0m in \u001b[0;36m_do_call\u001b[0;34m(self, fn, *args)\u001b[0m\n\u001b[1;32m   1338\u001b[0m         \u001b[0;32mexcept\u001b[0m \u001b[0mKeyError\u001b[0m\u001b[0;34m:\u001b[0m\u001b[0;34m\u001b[0m\u001b[0m\n\u001b[1;32m   1339\u001b[0m           \u001b[0;32mpass\u001b[0m\u001b[0;34m\u001b[0m\u001b[0m\n\u001b[0;32m-> 1340\u001b[0;31m       \u001b[0;32mraise\u001b[0m \u001b[0mtype\u001b[0m\u001b[0;34m(\u001b[0m\u001b[0me\u001b[0m\u001b[0;34m)\u001b[0m\u001b[0;34m(\u001b[0m\u001b[0mnode_def\u001b[0m\u001b[0;34m,\u001b[0m \u001b[0mop\u001b[0m\u001b[0;34m,\u001b[0m \u001b[0mmessage\u001b[0m\u001b[0;34m)\u001b[0m\u001b[0;34m\u001b[0m\u001b[0m\n\u001b[0m\u001b[1;32m   1341\u001b[0m \u001b[0;34m\u001b[0m\u001b[0m\n\u001b[1;32m   1342\u001b[0m   \u001b[0;32mdef\u001b[0m \u001b[0m_extend_graph\u001b[0m\u001b[0;34m(\u001b[0m\u001b[0mself\u001b[0m\u001b[0;34m)\u001b[0m\u001b[0;34m:\u001b[0m\u001b[0;34m\u001b[0m\u001b[0m\n",
      "\u001b[0;31mFailedPreconditionError\u001b[0m: Attempting to use uninitialized value ResNet32_train/conv_1/W\n\t [[Node: ResNet32_train/conv_1/W/_0 = _Send[T=DT_FLOAT, client_terminated=false, recv_device=\"/job:localhost/replica:0/task:0/cpu:0\", send_device=\"/job:localhost/replica:0/task:0/gpu:0\", send_device_incarnation=1, tensor_name=\"edge_4_ResNet32_train/conv_1/W\", _device=\"/job:localhost/replica:0/task:0/gpu:0\"](ResNet32_train/conv_1/W)]]\n\t [[Node: ResNet32_train/conv_1/W/_1 = _Recv[_start_time=0, client_terminated=false, recv_device=\"/job:localhost/replica:0/task:0/cpu:0\", send_device=\"/job:localhost/replica:0/task:0/gpu:0\", send_device_incarnation=1, tensor_name=\"edge_4_ResNet32_train/conv_1/W\", tensor_type=DT_FLOAT, _device=\"/job:localhost/replica:0/task:0/cpu:0\"]()]]"
     ]
    }
   ],
   "source": [
    "sess.run((tf_networks['train_network'].regularizable_variables['conv_1/W']))"
   ]
  },
  {
   "cell_type": "code",
   "execution_count": 44,
   "metadata": {},
   "outputs": [
    {
     "name": "stdout",
     "output_type": "stream",
     "text": [
      "9.23201\n",
      "1.79454\n",
      "1.01642\n",
      "0.311387\n",
      "0.164839\n",
      "0.249598\n",
      "0.156045\n",
      "0.108914\n",
      "0.162977\n",
      "0.232894\n",
      "0.150115\n",
      "0.107237\n",
      "0.0674546\n",
      "0.0800215\n",
      "0.0609434\n",
      "0.116719\n",
      "0.0609143\n",
      "0.033652\n",
      "0.0624136\n",
      "0.0180974\n",
      "0.0440502\n",
      "0.0358085\n",
      "0.0585388\n",
      "0.055075\n",
      "0.0379839\n",
      "0.0302096\n",
      "0.0296525\n",
      "0.150095\n",
      "0.0558424\n",
      "0.187442\n",
      "0.0853254\n",
      "0.727345\n"
     ]
    }
   ],
   "source": [
    "for k in tf_networks['train_network'].fisher_variables:\n",
    "    print(np.max(sess.run(tf_networks['train_network'].fisher_variables[k])))"
   ]
  },
  {
   "cell_type": "code",
   "execution_count": 28,
   "metadata": {},
   "outputs": [
    {
     "data": {
      "text/plain": [
       "{'conv_1/W': <tf.Variable 'ResNet32_train/conv_1/W_fisher:0' shape=(3, 3, 3, 16) dtype=float32_ref>,\n",
       " 'fc/W': <tf.Variable 'ResNet32_train/fc/W_fisher:0' shape=(1, 1, 64, 100) dtype=float32_ref>,\n",
       " 'resconv1_2a/W': <tf.Variable 'ResNet32_train/resconv1_2a/W_fisher:0' shape=(3, 3, 16, 16) dtype=float32_ref>,\n",
       " 'resconv1_2b/W': <tf.Variable 'ResNet32_train/resconv1_2b/W_fisher:0' shape=(3, 3, 16, 16) dtype=float32_ref>,\n",
       " 'resconv1_2c/W': <tf.Variable 'ResNet32_train/resconv1_2c/W_fisher:0' shape=(3, 3, 16, 16) dtype=float32_ref>,\n",
       " 'resconv1_2d/W': <tf.Variable 'ResNet32_train/resconv1_2d/W_fisher:0' shape=(3, 3, 16, 16) dtype=float32_ref>,\n",
       " 'resconv1_2e/W': <tf.Variable 'ResNet32_train/resconv1_2e/W_fisher:0' shape=(3, 3, 16, 16) dtype=float32_ref>,\n",
       " 'resconv1_3a/W': <tf.Variable 'ResNet32_train/resconv1_3a/W_fisher:0' shape=(3, 3, 16, 32) dtype=float32_ref>,\n",
       " 'resconv1_3b/W': <tf.Variable 'ResNet32_train/resconv1_3b/W_fisher:0' shape=(3, 3, 32, 32) dtype=float32_ref>,\n",
       " 'resconv1_3c/W': <tf.Variable 'ResNet32_train/resconv1_3c/W_fisher:0' shape=(3, 3, 32, 32) dtype=float32_ref>,\n",
       " 'resconv1_3d/W': <tf.Variable 'ResNet32_train/resconv1_3d/W_fisher:0' shape=(3, 3, 32, 32) dtype=float32_ref>,\n",
       " 'resconv1_3e/W': <tf.Variable 'ResNet32_train/resconv1_3e/W_fisher:0' shape=(3, 3, 32, 32) dtype=float32_ref>,\n",
       " 'resconv1_4a/W': <tf.Variable 'ResNet32_train/resconv1_4a/W_fisher:0' shape=(3, 3, 32, 64) dtype=float32_ref>,\n",
       " 'resconv1_4b/W': <tf.Variable 'ResNet32_train/resconv1_4b/W_fisher:0' shape=(3, 3, 64, 64) dtype=float32_ref>,\n",
       " 'resconv1_4c/W': <tf.Variable 'ResNet32_train/resconv1_4c/W_fisher:0' shape=(3, 3, 64, 64) dtype=float32_ref>,\n",
       " 'resconv1_4d/W': <tf.Variable 'ResNet32_train/resconv1_4d/W_fisher:0' shape=(3, 3, 64, 64) dtype=float32_ref>,\n",
       " 'resconv1_4e/W': <tf.Variable 'ResNet32_train/resconv1_4e/W_fisher:0' shape=(3, 3, 64, 64) dtype=float32_ref>,\n",
       " 'resconv2_2a/W': <tf.Variable 'ResNet32_train/resconv2_2a/W_fisher:0' shape=(3, 3, 16, 16) dtype=float32_ref>,\n",
       " 'resconv2_2b/W': <tf.Variable 'ResNet32_train/resconv2_2b/W_fisher:0' shape=(3, 3, 16, 16) dtype=float32_ref>,\n",
       " 'resconv2_2c/W': <tf.Variable 'ResNet32_train/resconv2_2c/W_fisher:0' shape=(3, 3, 16, 16) dtype=float32_ref>,\n",
       " 'resconv2_2d/W': <tf.Variable 'ResNet32_train/resconv2_2d/W_fisher:0' shape=(3, 3, 16, 16) dtype=float32_ref>,\n",
       " 'resconv2_2e/W': <tf.Variable 'ResNet32_train/resconv2_2e/W_fisher:0' shape=(3, 3, 16, 16) dtype=float32_ref>,\n",
       " 'resconv2_3a/W': <tf.Variable 'ResNet32_train/resconv2_3a/W_fisher:0' shape=(3, 3, 32, 32) dtype=float32_ref>,\n",
       " 'resconv2_3b/W': <tf.Variable 'ResNet32_train/resconv2_3b/W_fisher:0' shape=(3, 3, 32, 32) dtype=float32_ref>,\n",
       " 'resconv2_3c/W': <tf.Variable 'ResNet32_train/resconv2_3c/W_fisher:0' shape=(3, 3, 32, 32) dtype=float32_ref>,\n",
       " 'resconv2_3d/W': <tf.Variable 'ResNet32_train/resconv2_3d/W_fisher:0' shape=(3, 3, 32, 32) dtype=float32_ref>,\n",
       " 'resconv2_3e/W': <tf.Variable 'ResNet32_train/resconv2_3e/W_fisher:0' shape=(3, 3, 32, 32) dtype=float32_ref>,\n",
       " 'resconv2_4a/W': <tf.Variable 'ResNet32_train/resconv2_4a/W_fisher:0' shape=(3, 3, 64, 64) dtype=float32_ref>,\n",
       " 'resconv2_4b/W': <tf.Variable 'ResNet32_train/resconv2_4b/W_fisher:0' shape=(3, 3, 64, 64) dtype=float32_ref>,\n",
       " 'resconv2_4c/W': <tf.Variable 'ResNet32_train/resconv2_4c/W_fisher:0' shape=(3, 3, 64, 64) dtype=float32_ref>,\n",
       " 'resconv2_4d/W': <tf.Variable 'ResNet32_train/resconv2_4d/W_fisher:0' shape=(3, 3, 64, 64) dtype=float32_ref>,\n",
       " 'resconv2_4e/W': <tf.Variable 'ResNet32_train/resconv2_4e/W_fisher:0' shape=(3, 3, 64, 64) dtype=float32_ref>}"
      ]
     },
     "execution_count": 28,
     "metadata": {},
     "output_type": "execute_result"
    }
   ],
   "source": [
    "tf_networks['train_network'].fisher_variables"
   ]
  },
  {
   "cell_type": "code",
   "execution_count": 4,
   "metadata": {},
   "outputs": [],
   "source": [
    "tf.reset_default_graph()\n",
    "net=ResNet('ResNet32','test',num_outputs=100,name='ResNet32_test',use_fisher=True)\n",
    "gpu_options = tf.GPUOptions(per_process_gpu_memory_fraction=0.5)\n",
    "sess=tf.InteractiveSession(config=tf.ConfigProto(gpu_options=gpu_options))\n",
    "tf.global_variables_initializer().run()"
   ]
  },
  {
   "cell_type": "code",
   "execution_count": null,
   "metadata": {},
   "outputs": [],
   "source": []
  }
 ],
 "metadata": {
  "kernelspec": {
   "display_name": "Python 3",
   "language": "python",
   "name": "python3"
  },
  "language_info": {
   "codemirror_mode": {
    "name": "ipython",
    "version": 3
   },
   "file_extension": ".py",
   "mimetype": "text/x-python",
   "name": "python",
   "nbconvert_exporter": "python",
   "pygments_lexer": "ipython3",
   "version": "3.6.2"
  }
 },
 "nbformat": 4,
 "nbformat_minor": 2
}
